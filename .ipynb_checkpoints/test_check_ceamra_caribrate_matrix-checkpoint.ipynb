{
 "cells": [
  {
   "cell_type": "code",
   "execution_count": null,
   "metadata": {},
   "outputs": [],
   "source": [
    "#B.npz checker\n",
    "data = np.load(\"B.npz\")\n",
    "\n",
    "a1 = data['mtx']\n",
    "print(a1)\n",
    "b1 = data['dist']\n",
    "print(b1)\n",
    "a2 = data['rvecs']\n",
    "print(a2)\n",
    "b2 = data['tvecs']\n",
    "print(b2)\n",
    "print(\"==========================================\")\n",
    "\n",
    "print(mtx)\n",
    "print(dist)\n",
    "print(rvecs)\n",
    "print(tvecs)"
   ]
  }
 ],
 "metadata": {
  "kernelspec": {
   "display_name": "Python 3",
   "language": "python",
   "name": "python3"
  },
  "language_info": {
   "codemirror_mode": {
    "name": "ipython",
    "version": 3
   },
   "file_extension": ".py",
   "mimetype": "text/x-python",
   "name": "python",
   "nbconvert_exporter": "python",
   "pygments_lexer": "ipython3",
   "version": "3.7.3"
  }
 },
 "nbformat": 4,
 "nbformat_minor": 2
}
